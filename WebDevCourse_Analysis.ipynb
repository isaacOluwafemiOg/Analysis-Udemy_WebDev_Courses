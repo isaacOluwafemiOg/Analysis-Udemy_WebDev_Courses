{
 "cells": [
  {
   "cell_type": "markdown",
   "id": "80e3e5c6",
   "metadata": {},
   "source": [
    "### Importing the necessary packages"
   ]
  },
  {
   "cell_type": "code",
   "execution_count": 1,
   "id": "6c2629c3",
   "metadata": {},
   "outputs": [],
   "source": [
    "import pandas as pd\n",
    "import datetime as dt\n",
    "import missingno as msno\n",
    "import numpy as np"
   ]
  },
  {
   "cell_type": "code",
   "execution_count": 2,
   "id": "7df8d810",
   "metadata": {},
   "outputs": [],
   "source": [
    "# loading the web development data\n",
    "\n",
    "webdev=pd.read_csv('WebDevelopment.csv')"
   ]
  },
  {
   "cell_type": "code",
   "execution_count": 3,
   "id": "fdb6e5b6",
   "metadata": {},
   "outputs": [
    {
     "data": {
      "text/html": [
       "<div>\n",
       "<style scoped>\n",
       "    .dataframe tbody tr th:only-of-type {\n",
       "        vertical-align: middle;\n",
       "    }\n",
       "\n",
       "    .dataframe tbody tr th {\n",
       "        vertical-align: top;\n",
       "    }\n",
       "\n",
       "    .dataframe thead th {\n",
       "        text-align: right;\n",
       "    }\n",
       "</style>\n",
       "<table border=\"1\" class=\"dataframe\">\n",
       "  <thead>\n",
       "    <tr style=\"text-align: right;\">\n",
       "      <th></th>\n",
       "      <th>id</th>\n",
       "      <th>title</th>\n",
       "      <th>url</th>\n",
       "      <th>isPaid</th>\n",
       "      <th>price</th>\n",
       "      <th>numSubscribers</th>\n",
       "      <th>numReviews</th>\n",
       "      <th>numPublishedLectures</th>\n",
       "      <th>instructionalLevel</th>\n",
       "      <th>contentInfo</th>\n",
       "      <th>publishedTime</th>\n",
       "      <th>Unnamed: 11</th>\n",
       "      <th>Unnamed: 12</th>\n",
       "      <th>Unnamed: 13</th>\n",
       "      <th>Unnamed: 14</th>\n",
       "      <th>Unnamed: 15</th>\n",
       "    </tr>\n",
       "  </thead>\n",
       "  <tbody>\n",
       "    <tr>\n",
       "      <th>1195</th>\n",
       "      <td>775618</td>\n",
       "      <td>Learn jQuery from Scratch - Master of JavaScri...</td>\n",
       "      <td>https://www.udemy.com/easy-jquery-for-beginner...</td>\n",
       "      <td>TRUE</td>\n",
       "      <td>100</td>\n",
       "      <td>1040</td>\n",
       "      <td>14</td>\n",
       "      <td>21</td>\n",
       "      <td>All Levels</td>\n",
       "      <td>2 hours</td>\n",
       "      <td>2016-06-14T17:36:46Z</td>\n",
       "      <td>NaN</td>\n",
       "      <td>NaN</td>\n",
       "      <td>NaN</td>\n",
       "      <td>NaN</td>\n",
       "      <td>NaN</td>\n",
       "    </tr>\n",
       "    <tr>\n",
       "      <th>1196</th>\n",
       "      <td>1088178</td>\n",
       "      <td>How To Design A WordPress Website With No Codi...</td>\n",
       "      <td>https://www.udemy.com/how-to-make-a-wordpress-...</td>\n",
       "      <td>TRUE</td>\n",
       "      <td>25</td>\n",
       "      <td>306</td>\n",
       "      <td>3</td>\n",
       "      <td>42</td>\n",
       "      <td>Beginner Level</td>\n",
       "      <td>3.5 hours</td>\n",
       "      <td>2017-03-10T22:24:30Z</td>\n",
       "      <td>NaN</td>\n",
       "      <td>NaN</td>\n",
       "      <td>NaN</td>\n",
       "      <td>NaN</td>\n",
       "      <td>NaN</td>\n",
       "    </tr>\n",
       "    <tr>\n",
       "      <th>1197</th>\n",
       "      <td>635248</td>\n",
       "      <td>Learn and Build using Polymer</td>\n",
       "      <td>https://www.udemy.com/learn-and-build-using-po...</td>\n",
       "      <td>TRUE</td>\n",
       "      <td>40</td>\n",
       "      <td>513</td>\n",
       "      <td>169</td>\n",
       "      <td>48</td>\n",
       "      <td>All Levels</td>\n",
       "      <td>3.5 hours</td>\n",
       "      <td>2015-12-30T16:41:42Z</td>\n",
       "      <td>NaN</td>\n",
       "      <td>NaN</td>\n",
       "      <td>NaN</td>\n",
       "      <td>NaN</td>\n",
       "      <td>NaN</td>\n",
       "    </tr>\n",
       "    <tr>\n",
       "      <th>1198</th>\n",
       "      <td>905096</td>\n",
       "      <td>CSS Animations: Create Amazing Effects on Your...</td>\n",
       "      <td>https://www.udemy.com/css-animations-create-am...</td>\n",
       "      <td>TRUE</td>\n",
       "      <td>50</td>\n",
       "      <td>300</td>\n",
       "      <td>31</td>\n",
       "      <td>38</td>\n",
       "      <td>All Levels</td>\n",
       "      <td>3 hours</td>\n",
       "      <td>2016-08-11T19:06:15Z</td>\n",
       "      <td>NaN</td>\n",
       "      <td>NaN</td>\n",
       "      <td>NaN</td>\n",
       "      <td>NaN</td>\n",
       "      <td>NaN</td>\n",
       "    </tr>\n",
       "    <tr>\n",
       "      <th>1199</th>\n",
       "      <td>297602</td>\n",
       "      <td>Using MODX CMS to Build Websites: A Beginner's...</td>\n",
       "      <td>https://www.udemy.com/using-modx-cms-to-build-...</td>\n",
       "      <td>TRUE</td>\n",
       "      <td>45</td>\n",
       "      <td>901</td>\n",
       "      <td>36</td>\n",
       "      <td>20</td>\n",
       "      <td>Beginner Level</td>\n",
       "      <td>2 hours</td>\n",
       "      <td>2014-09-28T19:51:11Z</td>\n",
       "      <td>NaN</td>\n",
       "      <td>NaN</td>\n",
       "      <td>NaN</td>\n",
       "      <td>NaN</td>\n",
       "      <td>NaN</td>\n",
       "    </tr>\n",
       "  </tbody>\n",
       "</table>\n",
       "</div>"
      ],
      "text/plain": [
       "           id                                              title  \\\n",
       "1195   775618  Learn jQuery from Scratch - Master of JavaScri...   \n",
       "1196  1088178  How To Design A WordPress Website With No Codi...   \n",
       "1197   635248                      Learn and Build using Polymer   \n",
       "1198   905096  CSS Animations: Create Amazing Effects on Your...   \n",
       "1199   297602  Using MODX CMS to Build Websites: A Beginner's...   \n",
       "\n",
       "                                                    url isPaid price  \\\n",
       "1195  https://www.udemy.com/easy-jquery-for-beginner...   TRUE   100   \n",
       "1196  https://www.udemy.com/how-to-make-a-wordpress-...   TRUE    25   \n",
       "1197  https://www.udemy.com/learn-and-build-using-po...   TRUE    40   \n",
       "1198  https://www.udemy.com/css-animations-create-am...   TRUE    50   \n",
       "1199  https://www.udemy.com/using-modx-cms-to-build-...   TRUE    45   \n",
       "\n",
       "      numSubscribers  numReviews  numPublishedLectures instructionalLevel  \\\n",
       "1195            1040          14                    21         All Levels   \n",
       "1196             306           3                    42     Beginner Level   \n",
       "1197             513         169                    48         All Levels   \n",
       "1198             300          31                    38         All Levels   \n",
       "1199             901          36                    20     Beginner Level   \n",
       "\n",
       "     contentInfo         publishedTime  Unnamed: 11  Unnamed: 12  Unnamed: 13  \\\n",
       "1195     2 hours  2016-06-14T17:36:46Z          NaN          NaN          NaN   \n",
       "1196   3.5 hours  2017-03-10T22:24:30Z          NaN          NaN          NaN   \n",
       "1197   3.5 hours  2015-12-30T16:41:42Z          NaN          NaN          NaN   \n",
       "1198     3 hours  2016-08-11T19:06:15Z          NaN          NaN          NaN   \n",
       "1199     2 hours  2014-09-28T19:51:11Z          NaN          NaN          NaN   \n",
       "\n",
       "      Unnamed: 14  Unnamed: 15  \n",
       "1195          NaN          NaN  \n",
       "1196          NaN          NaN  \n",
       "1197          NaN          NaN  \n",
       "1198          NaN          NaN  \n",
       "1199          NaN          NaN  "
      ]
     },
     "execution_count": 3,
     "metadata": {},
     "output_type": "execute_result"
    }
   ],
   "source": [
    "# A look at a few rows of the webdev dataframe\n",
    "webdev.tail()"
   ]
  },
  {
   "cell_type": "code",
   "execution_count": 4,
   "id": "fd80a439",
   "metadata": {},
   "outputs": [
    {
     "name": "stdout",
     "output_type": "stream",
     "text": [
      "<class 'pandas.core.frame.DataFrame'>\n",
      "RangeIndex: 1200 entries, 0 to 1199\n",
      "Data columns (total 16 columns):\n",
      " #   Column                Non-Null Count  Dtype  \n",
      "---  ------                --------------  -----  \n",
      " 0   id                    1200 non-null   int64  \n",
      " 1   title                 1200 non-null   object \n",
      " 2   url                   1200 non-null   object \n",
      " 3   isPaid                1200 non-null   object \n",
      " 4   price                 1200 non-null   object \n",
      " 5   numSubscribers        1200 non-null   int64  \n",
      " 6   numReviews            1200 non-null   int64  \n",
      " 7   numPublishedLectures  1200 non-null   int64  \n",
      " 8   instructionalLevel    1200 non-null   object \n",
      " 9   contentInfo           1200 non-null   object \n",
      " 10  publishedTime         1200 non-null   object \n",
      " 11  Unnamed: 11           0 non-null      float64\n",
      " 12  Unnamed: 12           0 non-null      float64\n",
      " 13  Unnamed: 13           0 non-null      float64\n",
      " 14  Unnamed: 14           0 non-null      float64\n",
      " 15  Unnamed: 15           0 non-null      float64\n",
      "dtypes: float64(5), int64(4), object(7)\n",
      "memory usage: 150.1+ KB\n"
     ]
    }
   ],
   "source": [
    "# Getting information about the various columns of the dataframe\n",
    "webdev.info()"
   ]
  },
  {
   "cell_type": "markdown",
   "id": "076645d4",
   "metadata": {},
   "source": [
    "### Deleting columns with complete nulls"
   ]
  },
  {
   "cell_type": "code",
   "execution_count": 5,
   "id": "feeee152",
   "metadata": {},
   "outputs": [],
   "source": [
    "webdev.drop(['Unnamed: 11','Unnamed: 12','Unnamed: 13','Unnamed: 14','Unnamed: 15'],axis=1,inplace=True)"
   ]
  },
  {
   "cell_type": "markdown",
   "id": "edd47714",
   "metadata": {},
   "source": [
    "### Cleaning completely duplicated rows"
   ]
  },
  {
   "cell_type": "code",
   "execution_count": 6,
   "id": "a866ad51",
   "metadata": {},
   "outputs": [
    {
     "data": {
      "text/html": [
       "<div>\n",
       "<style scoped>\n",
       "    .dataframe tbody tr th:only-of-type {\n",
       "        vertical-align: middle;\n",
       "    }\n",
       "\n",
       "    .dataframe tbody tr th {\n",
       "        vertical-align: top;\n",
       "    }\n",
       "\n",
       "    .dataframe thead th {\n",
       "        text-align: right;\n",
       "    }\n",
       "</style>\n",
       "<table border=\"1\" class=\"dataframe\">\n",
       "  <thead>\n",
       "    <tr style=\"text-align: right;\">\n",
       "      <th></th>\n",
       "      <th>id</th>\n",
       "      <th>title</th>\n",
       "      <th>url</th>\n",
       "      <th>isPaid</th>\n",
       "      <th>price</th>\n",
       "      <th>numSubscribers</th>\n",
       "      <th>numReviews</th>\n",
       "      <th>numPublishedLectures</th>\n",
       "      <th>instructionalLevel</th>\n",
       "      <th>contentInfo</th>\n",
       "      <th>publishedTime</th>\n",
       "    </tr>\n",
       "  </thead>\n",
       "  <tbody>\n",
       "    <tr>\n",
       "      <th>0</th>\n",
       "      <td>28295</td>\n",
       "      <td>Learn Web Designing &amp; HTML5/CSS3 Essentials in...</td>\n",
       "      <td>https://www.udemy.com/build-beautiful-html5-we...</td>\n",
       "      <td>TRUE</td>\n",
       "      <td>75</td>\n",
       "      <td>43285</td>\n",
       "      <td>525</td>\n",
       "      <td>24</td>\n",
       "      <td>All Levels</td>\n",
       "      <td>4 hours</td>\n",
       "      <td>2013-01-03T00:55:31Z</td>\n",
       "    </tr>\n",
       "    <tr>\n",
       "      <th>83</th>\n",
       "      <td>28295</td>\n",
       "      <td>Learn Web Designing &amp; HTML5/CSS3 Essentials in...</td>\n",
       "      <td>https://www.udemy.com/build-beautiful-html5-we...</td>\n",
       "      <td>TRUE</td>\n",
       "      <td>75</td>\n",
       "      <td>43285</td>\n",
       "      <td>525</td>\n",
       "      <td>24</td>\n",
       "      <td>All Levels</td>\n",
       "      <td>4 hours</td>\n",
       "      <td>2013-01-03T00:55:31Z</td>\n",
       "    </tr>\n",
       "  </tbody>\n",
       "</table>\n",
       "</div>"
      ],
      "text/plain": [
       "       id                                              title  \\\n",
       "0   28295  Learn Web Designing & HTML5/CSS3 Essentials in...   \n",
       "83  28295  Learn Web Designing & HTML5/CSS3 Essentials in...   \n",
       "\n",
       "                                                  url isPaid price  \\\n",
       "0   https://www.udemy.com/build-beautiful-html5-we...   TRUE    75   \n",
       "83  https://www.udemy.com/build-beautiful-html5-we...   TRUE    75   \n",
       "\n",
       "    numSubscribers  numReviews  numPublishedLectures instructionalLevel  \\\n",
       "0            43285         525                    24         All Levels   \n",
       "83           43285         525                    24         All Levels   \n",
       "\n",
       "   contentInfo         publishedTime  \n",
       "0      4 hours  2013-01-03T00:55:31Z  \n",
       "83     4 hours  2013-01-03T00:55:31Z  "
      ]
     },
     "execution_count": 6,
     "metadata": {},
     "output_type": "execute_result"
    }
   ],
   "source": [
    "#viewing completely duplicated rows\n",
    "webdev[webdev.duplicated(keep=False)]"
   ]
  },
  {
   "cell_type": "code",
   "execution_count": 7,
   "id": "befaf227",
   "metadata": {},
   "outputs": [],
   "source": [
    "#deleting completely duplicates and keeping first as original\n",
    "webdev.drop_duplicates(keep='first',inplace=True)"
   ]
  },
  {
   "cell_type": "code",
   "execution_count": null,
   "id": "d0fbc866",
   "metadata": {},
   "outputs": [],
   "source": []
  },
  {
   "cell_type": "markdown",
   "id": "787ae328",
   "metadata": {},
   "source": [
    "### Working on the isPaid Column"
   ]
  },
  {
   "cell_type": "code",
   "execution_count": 8,
   "id": "b4243f8c",
   "metadata": {},
   "outputs": [
    {
     "data": {
      "text/plain": [
       "array(['TRUE', '1', 'FALSE', 'true'], dtype=object)"
      ]
     },
     "execution_count": 8,
     "metadata": {},
     "output_type": "execute_result"
    }
   ],
   "source": [
    "# A look at the unique values inside of the column\n",
    "webdev['isPaid'].unique()"
   ]
  },
  {
   "cell_type": "code",
   "execution_count": 9,
   "id": "ed2c9c78",
   "metadata": {},
   "outputs": [],
   "source": [
    "# correcting all instances of 'FALSE' to the boolean False, otherwise True\n",
    "webdev['isPaid']=np.where(webdev['isPaid']=='FALSE',False,True)"
   ]
  },
  {
   "cell_type": "code",
   "execution_count": 10,
   "id": "0adc429b",
   "metadata": {},
   "outputs": [
    {
     "data": {
      "text/plain": [
       "array([ True, False])"
      ]
     },
     "execution_count": 10,
     "metadata": {},
     "output_type": "execute_result"
    }
   ],
   "source": [
    "# Confirming that the change has taken effect\n",
    "webdev['isPaid'].unique()"
   ]
  },
  {
   "cell_type": "code",
   "execution_count": null,
   "id": "d206f5f8",
   "metadata": {},
   "outputs": [],
   "source": []
  },
  {
   "cell_type": "markdown",
   "id": "062a9bdc",
   "metadata": {},
   "source": [
    "## Working on the price column"
   ]
  },
  {
   "cell_type": "code",
   "execution_count": 11,
   "id": "c1ee161d",
   "metadata": {},
   "outputs": [
    {
     "data": {
      "text/plain": [
       "array(['75', '50', '60', '20', '40', '150', '200', '195', '25', '95',\n",
       "       '-20', '100', '190', '120', '110', '165', '65', '85', '175', '70',\n",
       "       '80', '125', '145', '115', '135', 'Free', '30', '55', '35', '140',\n",
       "       '45', '180', '170', '185', '90', '105', '160'], dtype=object)"
      ]
     },
     "execution_count": 11,
     "metadata": {},
     "output_type": "execute_result"
    }
   ],
   "source": [
    "# Looking at the unique representations in the price column\n",
    "webdev['price'].unique()"
   ]
  },
  {
   "cell_type": "markdown",
   "id": "ab2eb332",
   "metadata": {},
   "source": [
    "Correcting wrong inputs: \n",
    "* 'Free' replaced with 0\n",
    "* negative values replaced with their positive equivalents"
   ]
  },
  {
   "cell_type": "code",
   "execution_count": 12,
   "id": "fdd79d90",
   "metadata": {},
   "outputs": [],
   "source": [
    "#effecting the above changes\n",
    "webdev['price']=np.where(webdev['price']=='Free','0',webdev['price'])\n",
    "webdev['price']=webdev['price'].str.strip('-')"
   ]
  },
  {
   "cell_type": "code",
   "execution_count": 13,
   "id": "9fb0ff71",
   "metadata": {},
   "outputs": [
    {
     "data": {
      "text/plain": [
       "array(['75', '50', '60', '20', '40', '150', '200', '195', '25', '95',\n",
       "       '100', '190', '120', '110', '165', '65', '85', '175', '70', '80',\n",
       "       '125', '145', '115', '135', '0', '30', '55', '35', '140', '45',\n",
       "       '180', '170', '185', '90', '105', '160'], dtype=object)"
      ]
     },
     "execution_count": 13,
     "metadata": {},
     "output_type": "execute_result"
    }
   ],
   "source": [
    "# confirming the changes\n",
    "webdev['price'].unique()"
   ]
  },
  {
   "cell_type": "code",
   "execution_count": 14,
   "id": "28f17ec0",
   "metadata": {},
   "outputs": [],
   "source": [
    "# Converting the price column to float data type\n",
    "webdev['price']=webdev['price'].astype('float')"
   ]
  },
  {
   "cell_type": "code",
   "execution_count": null,
   "id": "4e1ac4be",
   "metadata": {},
   "outputs": [],
   "source": []
  },
  {
   "cell_type": "markdown",
   "id": "dd0a08fe",
   "metadata": {},
   "source": [
    "## Working on the numReviews column"
   ]
  },
  {
   "cell_type": "code",
   "execution_count": 15,
   "id": "eb9964ee",
   "metadata": {},
   "outputs": [
    {
     "data": {
      "text/plain": [
       "array([  525,   285,   529,   206,   490,   202,  -112,   359,   178,\n",
       "         210,   540,  -351,   167,   253,   220,   106,   333,   147,\n",
       "          94,   217,   317,   218,   110,   131,   848,   506,  1017,\n",
       "         655,   820,   662,  1445,  1981,   104,  1358,  1304,   418,\n",
       "          73,    38,    52,    56,    59,    35,    21,    41,   200,\n",
       "          83,   324,    13,   401,   198,   368,   137,   142,   116,\n",
       "         193,   277,   111,   223,    46,   340,     6,    76,   201,\n",
       "          75,    43,    53,    49,    31,   237,   783,   121,   312,\n",
       "         268,   117,   215,   212,   674,   165,   680,   395,   188,\n",
       "         414,  1111,   331,   941,   129,    72,   179,   799,   836,\n",
       "         453,   997,   232,    20,  1220,   411,    89,     8,    82,\n",
       "          23,    64,    80,     0,  6512,  4047,    16,     7,    30,\n",
       "         139,   473,    79,    34,   118,  1097,    57,   173,   159,\n",
       "         276,    78,   216,   219,   105,  2685,    96,   423,   102,\n",
       "           5,    81,   169,    69,   970,   570,   901,   876,   303,\n",
       "         286,   302,   629,   292,   262,    62,   125,   164,  1342,\n",
       "         314,   114,    47,   978,   522,    44,   101,    63,   874,\n",
       "          68,    88,   243,    24,    27,   160,    37,    29,    50,\n",
       "         231,   306,    17,   291,     4,     9,   185,   138,    22,\n",
       "          10,  1838,   330,  1548,   531,   622,   660,  1090,  2408,\n",
       "        1846,   497,   214,   627,   931,   383,   134,    26,   329,\n",
       "         685,   466,    65,   523,    11,   120,    12,   514,   589,\n",
       "          28,   742,   471,   174,   144,    92,   136,    90,   213,\n",
       "          15,    61,    60,   258,    48,   228,    93,    39,    32,\n",
       "        1005,  2575,  5924,    33,   183,    14,   415,   463,   482,\n",
       "         224,  1813,   260,    99,   247,   380,   450,    95,  1112,\n",
       "         126,  8629,   441,   154,   354,    74,   750,   108,    71,\n",
       "          51,   115,   112,     1,    42,    40,   107,   358,    45,\n",
       "          19,   166,    18,    54,   145,   439,   172,   278,   242,\n",
       "          85,    91,   239,    55,   393,   245,    36,    77,   261,\n",
       "         989,    25,    84,   133,   195,  1106,   141,   249,     2,\n",
       "         171,   435,   119,   162,   235,   279,    97,   311,    58,\n",
       "          87,   318,   536,   416,   438,   130,   365,  -602,   508,\n",
       "         721,   360,  1724,   527,  1213,   372,   688,   983,   620,\n",
       "         407,   128,   489,    67,   150,  1225,   384,   382,   634,\n",
       "         434,   780,   526,   123,   149,   850,  1883,  1375,   828,\n",
       "         737, 19649,  1955,  4316,   676,  3809,  3137,   283,    86,\n",
       "         103,  2692,  1286,   241,  4675,   288,  4340,  3166,  8341,\n",
       "        1384, 27445,  2144, 22412,  4434,   914,   561,  2618,   271,\n",
       "         313, 11580, 16976,  1893,  7106,  2709, 11123,  1560,  3326,\n",
       "       15117,   307,  6357,   987,     3,   615,  4598,   945,  1236,\n",
       "         386,   152,   689,   132,  1080,   135,  5660,    98,  2104,\n",
       "         177,   146,   336,   148,   240,   546,  1948,   163,  5590,\n",
       "         406,   161,   290,   304,   346,   180,   521,   196,   221,\n",
       "         309,   319,   300,   143,  1036,  1234,   394,   390,   425,\n",
       "         203,   379,  1716,   205,   113], dtype=int64)"
      ]
     },
     "execution_count": 15,
     "metadata": {},
     "output_type": "execute_result"
    }
   ],
   "source": [
    "webdev['numReviews'].unique()"
   ]
  },
  {
   "cell_type": "code",
   "execution_count": 16,
   "id": "590d9e60",
   "metadata": {},
   "outputs": [],
   "source": [
    "# Correcting negative inputs of number of reviews\n",
    "webdev['numReviews']=np.where(webdev['numReviews']<0,-1*webdev['numReviews'],webdev['numReviews'])"
   ]
  },
  {
   "cell_type": "code",
   "execution_count": 17,
   "id": "e5570d75",
   "metadata": {},
   "outputs": [
    {
     "name": "stdout",
     "output_type": "stream",
     "text": [
      "0 27445\n"
     ]
    }
   ],
   "source": [
    "# Confirming that there are no more values falling out of the reasonable range\n",
    "print(webdev['numReviews'].min(),webdev['numReviews'].max())"
   ]
  },
  {
   "cell_type": "code",
   "execution_count": null,
   "id": "4b69f356",
   "metadata": {},
   "outputs": [],
   "source": []
  },
  {
   "cell_type": "markdown",
   "id": "bef9036f",
   "metadata": {},
   "source": [
    "### Working on instructionalLevel column"
   ]
  },
  {
   "cell_type": "code",
   "execution_count": 18,
   "id": "55de7d49",
   "metadata": {},
   "outputs": [
    {
     "data": {
      "text/plain": [
       "array(['All Levels', 'all levels', 'Intermediate Level', 'beginner',\n",
       "       'Beginner Level', 'INTERMEDIATE', 'all ', 'ALLEVELs', 'BEGINNER',\n",
       "       'Expert Level'], dtype=object)"
      ]
     },
     "execution_count": 18,
     "metadata": {},
     "output_type": "execute_result"
    }
   ],
   "source": [
    "# viewing unique values inside instructionalLevel column\n",
    "webdev['instructionalLevel'].unique()"
   ]
  },
  {
   "cell_type": "markdown",
   "id": "81ce4a42",
   "metadata": {},
   "source": [
    "From looking at the unique values, there are supposed to be 4 unique values: All, Beginner, Intermediate and Expert.\n",
    "The correction will be made by;\n",
    "* Applying same capitalisation through the column\n",
    "* Removing the 'level' word out of every entry\n",
    "* Removing unwanted white spaces"
   ]
  },
  {
   "cell_type": "code",
   "execution_count": 19,
   "id": "6345ea46",
   "metadata": {},
   "outputs": [],
   "source": [
    "webdev['instructionalLevel']=webdev['instructionalLevel'].str.capitalize().str.replace('level','').str.replace('s','')\\\n",
    "                                                            .str.strip()"
   ]
  },
  {
   "cell_type": "code",
   "execution_count": 20,
   "id": "9ef28c57",
   "metadata": {},
   "outputs": [
    {
     "data": {
      "text/plain": [
       "array(['All', 'Intermediate', 'Beginner', 'Al', 'Expert'], dtype=object)"
      ]
     },
     "execution_count": 20,
     "metadata": {},
     "output_type": "execute_result"
    }
   ],
   "source": [
    "# checking results of the changes\n",
    "webdev['instructionalLevel'].unique()"
   ]
  },
  {
   "cell_type": "code",
   "execution_count": 21,
   "id": "a9a491e6",
   "metadata": {},
   "outputs": [],
   "source": [
    "#Dealing with the unique instance of 'Al'\n",
    "webdev['instructionalLevel']=np.where(webdev['instructionalLevel']=='Al','All',webdev['instructionalLevel'])"
   ]
  },
  {
   "cell_type": "code",
   "execution_count": null,
   "id": "ba5e29e5",
   "metadata": {},
   "outputs": [],
   "source": []
  },
  {
   "cell_type": "markdown",
   "id": "3947d1b5",
   "metadata": {},
   "source": [
    "## Working on the contentInfo column"
   ]
  },
  {
   "cell_type": "code",
   "execution_count": 22,
   "id": "f2638963",
   "metadata": {},
   "outputs": [
    {
     "data": {
      "text/plain": [
       "array(['4 hours', '12.5 hours', '4.5 hours', '15.5 hours', '5.5 hours',\n",
       "       '5 hours', '19.5 hours', '7 hours', '6 hours', '1.5 hours',\n",
       "       '3.5 hours', '12 hours', '3 hours', '32.5 hours', '1 hour',\n",
       "       '9.5 hours', '9 hours', '7.5 hours', '18.5 hours', '19 hours',\n",
       "       '15 hours', '20.5 hours', '13.5 hours', '37.5 hours', '14.5 hours',\n",
       "       '2 hours', '2.5 hours', '17.5 hours', '10 hours', '8.5 hours',\n",
       "       '6.5 hours', '8 hours', '10.5 hours', '25 hours', '11 hours',\n",
       "       '20 hours', '25.5 hours', '45 hours', '33 hours', '16 hours',\n",
       "       '11.5 hours', '60 hours', '16.5 hours', '22.5 hours', '23 hours',\n",
       "       '18 hours', '13 hours', '33 mins', '14 hours', '29.5 hours',\n",
       "       '21.5 hours', '31.5 hours', '27.5 hours', '44.5 hours', '36 mins',\n",
       "       '24.5 hours', '40 mins', '51 hours', '43 mins', '42 mins',\n",
       "       '37 mins', '32 mins', '34 mins', '17 hours', '41 mins', '44 mins',\n",
       "       '35 mins', '57 hours', '38 mins', '39 mins', '76.5 hours',\n",
       "       '22 hours', '30.5 hours', '43 hours', '42 hours', '26.5 hours',\n",
       "       '26 hours', '21 hours', '30 mins', '48.5 hours', '31 mins',\n",
       "       '23.5 hours', '66.5 hours'], dtype=object)"
      ]
     },
     "execution_count": 22,
     "metadata": {},
     "output_type": "execute_result"
    }
   ],
   "source": [
    "# looking at the unique values inside the contentInfo column\n",
    "webdev['contentInfo'].unique()"
   ]
  },
  {
   "cell_type": "markdown",
   "id": "ce8e2318",
   "metadata": {},
   "source": [
    "To clean this column:\n",
    "* The units will be stripped off the entries\n",
    "* The minutes entries will be converted into hours\n",
    "* The column will then be stored as a float datatype with a more descriptive name"
   ]
  },
  {
   "cell_type": "code",
   "execution_count": 23,
   "id": "6a1a5f28",
   "metadata": {},
   "outputs": [],
   "source": [
    "# Creating a new column with a more descriptive name and filling the entries recorded originally in hours\n",
    "webdev['duration_hours']=np.where(webdev['contentInfo'].str.contains('hours',regex=False),webdev['contentInfo'].str.strip('hours '),\n",
    "                               np.nan)"
   ]
  },
  {
   "cell_type": "code",
   "execution_count": 24,
   "id": "d7771d03",
   "metadata": {},
   "outputs": [],
   "source": [
    "# converting the entries originally stored as minutes into hours\n",
    "webdev['contentInfo']=np.where(True,webdev['contentInfo'].str.strip('mins').str.strip('hours ').astype('float')/60,\n",
    "                               np.nan)"
   ]
  },
  {
   "cell_type": "code",
   "execution_count": 25,
   "id": "208dac69",
   "metadata": {},
   "outputs": [],
   "source": [
    "# filling the converted minutes entries into the duration_hours column\n",
    "webdev['duration_hours']=np.where(webdev['duration_hours'].isna(),webdev['contentInfo'],\n",
    "                               webdev['duration_hours'])"
   ]
  },
  {
   "cell_type": "code",
   "execution_count": 26,
   "id": "f6583105",
   "metadata": {},
   "outputs": [
    {
     "data": {
      "text/plain": [
       "array(['4', '12.5', '4.5', '15.5', '5.5', '5', '19.5', '7', '6', '1.5',\n",
       "       '3.5', '12', '3', '32.5', 0.016666666666666666, '9.5', '9', '7.5',\n",
       "       '18.5', '19', '15', '20.5', '13.5', '37.5', '14.5', '2', '2.5',\n",
       "       '17.5', '10', '8.5', '6.5', '8', '10.5', '25', '11', '20', '25.5',\n",
       "       '45', '33', '16', '11.5', '60', '16.5', '22.5', '23', '18', '13',\n",
       "       0.55, '14', '29.5', '21.5', '31.5', '27.5', '44.5', 0.6, '24.5',\n",
       "       0.6666666666666666, '51', 0.7166666666666667, 0.7,\n",
       "       0.6166666666666667, 0.5333333333333333, 0.5666666666666667, '17',\n",
       "       0.6833333333333333, 0.7333333333333333, 0.5833333333333334, '57',\n",
       "       0.6333333333333333, 0.65, '76.5', '22', '30.5', '43', '42', '26.5',\n",
       "       '26', '21', 0.5, '48.5', 0.5166666666666667, '23.5', '66.5'],\n",
       "      dtype=object)"
      ]
     },
     "execution_count": 26,
     "metadata": {},
     "output_type": "execute_result"
    }
   ],
   "source": [
    "webdev['duration_hours'].unique()"
   ]
  },
  {
   "cell_type": "code",
   "execution_count": 27,
   "id": "4d7a611e",
   "metadata": {},
   "outputs": [],
   "source": [
    "#storing the entries of duration_hours as float and rounding to 2 decimal places\n",
    "webdev['duration_hours']=webdev['duration_hours'].astype('float').round(decimals=2)"
   ]
  },
  {
   "cell_type": "code",
   "execution_count": 28,
   "id": "efd43bdf",
   "metadata": {},
   "outputs": [],
   "source": [
    "#deleting the contentInfo column\n",
    "del webdev['contentInfo']"
   ]
  },
  {
   "cell_type": "markdown",
   "id": "b94d9a9c",
   "metadata": {},
   "source": [
    "### Working on the publishedTime column"
   ]
  },
  {
   "cell_type": "code",
   "execution_count": 29,
   "id": "1be0718c",
   "metadata": {},
   "outputs": [],
   "source": [
    "# converting published time to datetime object\n",
    "webdev['publishedTime']=pd.to_datetime(webdev['publishedTime'])"
   ]
  },
  {
   "cell_type": "markdown",
   "id": "581f12bf",
   "metadata": {},
   "source": [
    "# Viewing the cleaned dataframe"
   ]
  },
  {
   "cell_type": "code",
   "execution_count": 37,
   "id": "b934364e",
   "metadata": {},
   "outputs": [
    {
     "data": {
      "text/html": [
       "<div>\n",
       "<style scoped>\n",
       "    .dataframe tbody tr th:only-of-type {\n",
       "        vertical-align: middle;\n",
       "    }\n",
       "\n",
       "    .dataframe tbody tr th {\n",
       "        vertical-align: top;\n",
       "    }\n",
       "\n",
       "    .dataframe thead th {\n",
       "        text-align: right;\n",
       "    }\n",
       "</style>\n",
       "<table border=\"1\" class=\"dataframe\">\n",
       "  <thead>\n",
       "    <tr style=\"text-align: right;\">\n",
       "      <th></th>\n",
       "      <th>id</th>\n",
       "      <th>title</th>\n",
       "      <th>url</th>\n",
       "      <th>isPaid</th>\n",
       "      <th>price</th>\n",
       "      <th>numSubscribers</th>\n",
       "      <th>numReviews</th>\n",
       "      <th>numPublishedLectures</th>\n",
       "      <th>instructionalLevel</th>\n",
       "      <th>publishedTime</th>\n",
       "      <th>duration_hours</th>\n",
       "    </tr>\n",
       "  </thead>\n",
       "  <tbody>\n",
       "    <tr>\n",
       "      <th>0</th>\n",
       "      <td>28295</td>\n",
       "      <td>Learn Web Designing &amp; HTML5/CSS3 Essentials in...</td>\n",
       "      <td>https://www.udemy.com/build-beautiful-html5-we...</td>\n",
       "      <td>True</td>\n",
       "      <td>75.0</td>\n",
       "      <td>43285</td>\n",
       "      <td>525</td>\n",
       "      <td>24</td>\n",
       "      <td>All</td>\n",
       "      <td>2013-01-03 00:55:31+00:00</td>\n",
       "      <td>4.0</td>\n",
       "    </tr>\n",
       "    <tr>\n",
       "      <th>1</th>\n",
       "      <td>19603</td>\n",
       "      <td>Learning Dynamic Website Design - PHP MySQL an...</td>\n",
       "      <td>https://www.udemy.com/learning-dynamic-website...</td>\n",
       "      <td>True</td>\n",
       "      <td>50.0</td>\n",
       "      <td>47886</td>\n",
       "      <td>285</td>\n",
       "      <td>125</td>\n",
       "      <td>All</td>\n",
       "      <td>2012-06-18 16:52:34+00:00</td>\n",
       "      <td>12.5</td>\n",
       "    </tr>\n",
       "    <tr>\n",
       "      <th>2</th>\n",
       "      <td>889438</td>\n",
       "      <td>ChatBots: Messenger ChatBot with API.AI and No...</td>\n",
       "      <td>https://www.udemy.com/chatbots/</td>\n",
       "      <td>True</td>\n",
       "      <td>50.0</td>\n",
       "      <td>2577</td>\n",
       "      <td>529</td>\n",
       "      <td>64</td>\n",
       "      <td>All</td>\n",
       "      <td>2016-06-30 16:57:08+00:00</td>\n",
       "      <td>4.5</td>\n",
       "    </tr>\n",
       "    <tr>\n",
       "      <th>3</th>\n",
       "      <td>197836</td>\n",
       "      <td>Projects in HTML5</td>\n",
       "      <td>https://www.udemy.com/projects-in-html5/</td>\n",
       "      <td>True</td>\n",
       "      <td>60.0</td>\n",
       "      <td>8777</td>\n",
       "      <td>206</td>\n",
       "      <td>75</td>\n",
       "      <td>Intermediate</td>\n",
       "      <td>2014-06-17 05:43:50+00:00</td>\n",
       "      <td>15.5</td>\n",
       "    </tr>\n",
       "    <tr>\n",
       "      <th>4</th>\n",
       "      <td>505208</td>\n",
       "      <td>Programming Foundations: HTML5 + CSS3 for Entr...</td>\n",
       "      <td>https://www.udemy.com/html-css-more/</td>\n",
       "      <td>True</td>\n",
       "      <td>20.0</td>\n",
       "      <td>23764</td>\n",
       "      <td>490</td>\n",
       "      <td>58</td>\n",
       "      <td>Beginner</td>\n",
       "      <td>2015-10-17 04:52:25+00:00</td>\n",
       "      <td>5.5</td>\n",
       "    </tr>\n",
       "  </tbody>\n",
       "</table>\n",
       "</div>"
      ],
      "text/plain": [
       "       id                                              title  \\\n",
       "0   28295  Learn Web Designing & HTML5/CSS3 Essentials in...   \n",
       "1   19603  Learning Dynamic Website Design - PHP MySQL an...   \n",
       "2  889438  ChatBots: Messenger ChatBot with API.AI and No...   \n",
       "3  197836                                  Projects in HTML5   \n",
       "4  505208  Programming Foundations: HTML5 + CSS3 for Entr...   \n",
       "\n",
       "                                                 url  isPaid  price  \\\n",
       "0  https://www.udemy.com/build-beautiful-html5-we...    True   75.0   \n",
       "1  https://www.udemy.com/learning-dynamic-website...    True   50.0   \n",
       "2                    https://www.udemy.com/chatbots/    True   50.0   \n",
       "3           https://www.udemy.com/projects-in-html5/    True   60.0   \n",
       "4               https://www.udemy.com/html-css-more/    True   20.0   \n",
       "\n",
       "   numSubscribers  numReviews  numPublishedLectures instructionalLevel  \\\n",
       "0           43285         525                    24                All   \n",
       "1           47886         285                   125                All   \n",
       "2            2577         529                    64                All   \n",
       "3            8777         206                    75       Intermediate   \n",
       "4           23764         490                    58           Beginner   \n",
       "\n",
       "              publishedTime  duration_hours  \n",
       "0 2013-01-03 00:55:31+00:00             4.0  \n",
       "1 2012-06-18 16:52:34+00:00            12.5  \n",
       "2 2016-06-30 16:57:08+00:00             4.5  \n",
       "3 2014-06-17 05:43:50+00:00            15.5  \n",
       "4 2015-10-17 04:52:25+00:00             5.5  "
      ]
     },
     "execution_count": 37,
     "metadata": {},
     "output_type": "execute_result"
    }
   ],
   "source": [
    "webdev.head()"
   ]
  },
  {
   "cell_type": "code",
   "execution_count": 38,
   "id": "2887e90b",
   "metadata": {},
   "outputs": [
    {
     "name": "stdout",
     "output_type": "stream",
     "text": [
      "<class 'pandas.core.frame.DataFrame'>\n",
      "Int64Index: 1199 entries, 0 to 1199\n",
      "Data columns (total 11 columns):\n",
      " #   Column                Non-Null Count  Dtype              \n",
      "---  ------                --------------  -----              \n",
      " 0   id                    1199 non-null   int64              \n",
      " 1   title                 1199 non-null   object             \n",
      " 2   url                   1199 non-null   object             \n",
      " 3   isPaid                1199 non-null   bool               \n",
      " 4   price                 1199 non-null   float64            \n",
      " 5   numSubscribers        1199 non-null   int64              \n",
      " 6   numReviews            1199 non-null   int64              \n",
      " 7   numPublishedLectures  1199 non-null   int64              \n",
      " 8   instructionalLevel    1199 non-null   object             \n",
      " 9   publishedTime         1199 non-null   datetime64[ns, UTC]\n",
      " 10  duration_hours        1199 non-null   float64            \n",
      "dtypes: bool(1), datetime64[ns, UTC](1), float64(2), int64(4), object(3)\n",
      "memory usage: 104.2+ KB\n"
     ]
    }
   ],
   "source": [
    "webdev.info()"
   ]
  },
  {
   "cell_type": "code",
   "execution_count": null,
   "id": "499b3d85",
   "metadata": {},
   "outputs": [],
   "source": []
  }
 ],
 "metadata": {
  "kernelspec": {
   "display_name": "Python 3 (ipykernel)",
   "language": "python",
   "name": "python3"
  },
  "language_info": {
   "codemirror_mode": {
    "name": "ipython",
    "version": 3
   },
   "file_extension": ".py",
   "mimetype": "text/x-python",
   "name": "python",
   "nbconvert_exporter": "python",
   "pygments_lexer": "ipython3",
   "version": "3.9.12"
  }
 },
 "nbformat": 4,
 "nbformat_minor": 5
}
